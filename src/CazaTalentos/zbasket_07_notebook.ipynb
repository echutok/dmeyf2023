{
 "cells": [
  {
   "cell_type": "code",
   "execution_count": 1,
   "id": "facb2b0f-00eb-458f-aab5-39b4ced08c82",
   "metadata": {},
   "outputs": [],
   "source": [
    "# intencionalmente ela mejor jugadora va al final de la lista de jugadoras\n",
    "# porque la funcion np.argmax() de Python hace trampa\n",
    "# si hay un empate ( dos máximos) se queda con el que esta primero en el vector\n",
    "import  numpy as np"
   ]
  },
  {
   "cell_type": "code",
   "execution_count": 2,
   "id": "042cdc16-e579-47a1-b4cd-bc0f0cc744b0",
   "metadata": {},
   "outputs": [],
   "source": [
    "np.random.seed(109001)"
   ]
  },
  {
   "cell_type": "code",
   "execution_count": 3,
   "id": "a0f0f858-c43b-423e-a363-c95f90890e8e",
   "metadata": {},
   "outputs": [],
   "source": [
    "# calcula cuantos encestes logra un jugador con indice de enceste prob\n",
    "# que hace qyt tiros libres\n",
    "def ftirar(prob, qty):\n",
    "  return sum(np.random.rand(qty) < prob) "
   ]
  },
  {
   "cell_type": "code",
   "execution_count": 4,
   "id": "ee93fd0a-c59f-45a9-995d-c7c68f15a018",
   "metadata": {},
   "outputs": [],
   "source": [
    "# defino las jugadoras\n",
    "mejor = 0.7\n",
    "peloton = np.array(range(501, 600)) / 1000\n",
    "jugadoras = np.append(peloton, mejor) # intencionalmente la mejor esta al final\n",
    "\n",
    "# vectorizo la funcion  ftirar\n",
    "vec_ftirar = np.vectorize(ftirar)"
   ]
  },
  {
   "cell_type": "code",
   "execution_count": 5,
   "id": "48bd5783-7eed-4320-b7eb-6476907eb375",
   "metadata": {},
   "outputs": [
    {
     "name": "stdout",
     "output_type": "stream",
     "text": [
      "10 \t 0.0313\n",
      "20 \t 0.0854\n",
      "50 \t 0.2715\n",
      "100 \t 0.5452\n",
      "200 \t 0.8556\n",
      "300 \t 0.9576\n",
      "400 \t 0.9872\n",
      "415 \t 0.9891\n",
      "500 \t 0.9958\n",
      "600 \t 0.9996\n",
      "700 \t 0.9999\n",
      "1000 \t 1.0\n",
      "CPU times: total: 9min 8s\n",
      "Wall time: 9min 17s\n"
     ]
    }
   ],
   "source": [
    "%%time\n",
    "for tiros_libres in [10, 20, 50, 100, 200, 300, 400, 415, 500, 600, 700, 1000]:\n",
    "  primera_ganadora = 0\n",
    "  for i in range(10000):\n",
    "    vaciertos = vec_ftirar(jugadoras, tiros_libres) # 10 tiros cada jugadora\n",
    "    mejor_ronda= np.argmax(vaciertos)\n",
    "    if mejor_ronda == 99:\n",
    "      primera_ganadora += 1\n",
    "  print(tiros_libres, \"\\t\", primera_ganadora/10000)"
   ]
  },
  {
   "cell_type": "code",
   "execution_count": null,
   "id": "25a73732-c709-4d3a-ac92-c655b03cc217",
   "metadata": {},
   "outputs": [],
   "source": []
  },
  {
   "cell_type": "code",
   "execution_count": null,
   "id": "2087fb10-51b0-4d81-9368-7d362bceb910",
   "metadata": {},
   "outputs": [],
   "source": []
  }
 ],
 "metadata": {
  "kernelspec": {
   "display_name": "Python 3 (ipykernel)",
   "language": "python",
   "name": "python3"
  },
  "language_info": {
   "codemirror_mode": {
    "name": "ipython",
    "version": 3
   },
   "file_extension": ".py",
   "mimetype": "text/x-python",
   "name": "python",
   "nbconvert_exporter": "python",
   "pygments_lexer": "ipython3",
   "version": "3.11.4"
  }
 },
 "nbformat": 4,
 "nbformat_minor": 5
}
