{
 "cells": [
  {
   "cell_type": "code",
   "execution_count": 1,
   "id": "326123c4-8c60-4ab8-af37-f2c2eb0bd862",
   "metadata": {},
   "outputs": [],
   "source": [
    "import  numpy as np"
   ]
  },
  {
   "cell_type": "code",
   "execution_count": 2,
   "id": "b3fd1148-7882-4c69-b77b-f548869fb2a4",
   "metadata": {},
   "outputs": [],
   "source": [
    "np.random.seed(109001)"
   ]
  },
  {
   "cell_type": "code",
   "execution_count": 3,
   "id": "54ff7523-e8e6-4a73-a6d1-69881f3e94e0",
   "metadata": {},
   "outputs": [],
   "source": [
    "# calcula cuantos encestes logra una jugadora con indice de enceste prob\n",
    "# que hace qyt tiros libres\n",
    "\n",
    "def ftirar(prob, qty):\n",
    "  return sum(np.random.rand(qty) < prob)"
   ]
  },
  {
   "cell_type": "code",
   "execution_count": 4,
   "id": "6d26c635-223f-4cb9-a739-8379a83c3c6c",
   "metadata": {},
   "outputs": [],
   "source": [
    "# defino las jugadoras\n",
    "jugadoras = [0.7] * 100\n",
    "\n",
    "# vectorizo la funcion  ftirar\n",
    "vec_ftirar = np.vectorize(ftirar)\n",
    "\n",
    "suma_diferencias = 0"
   ]
  },
  {
   "cell_type": "code",
   "execution_count": 5,
   "id": "60d86d07-d342-4178-98ec-af373e5f95df",
   "metadata": {},
   "outputs": [
    {
     "name": "stdout",
     "output_type": "stream",
     "text": [
      "11.0782\n"
     ]
    }
   ],
   "source": [
    "for i in range(10000):\n",
    "  vaciertos = vec_ftirar(jugadoras, 100) # 10 tiros libres cada jugadora\n",
    "  mejor_ronda = np.argmax(vaciertos)\n",
    "  aciertos_torneo = vaciertos[mejor_ronda]\n",
    "  aciertos_segunda = vec_ftirar(jugadoras[mejor_ronda], 100)\n",
    "  suma_diferencias += (aciertos_torneo - aciertos_segunda)\n",
    "\n",
    "print(suma_diferencias/10000)"
   ]
  },
  {
   "cell_type": "code",
   "execution_count": null,
   "id": "adc87512-4657-46dc-9f81-2847746b4aed",
   "metadata": {},
   "outputs": [],
   "source": []
  },
  {
   "cell_type": "code",
   "execution_count": null,
   "id": "d27f20c9-54dc-4b73-9986-bd380acba80b",
   "metadata": {},
   "outputs": [],
   "source": []
  },
  {
   "cell_type": "code",
   "execution_count": null,
   "id": "e0af7821-9495-479b-9689-26ea3d978da6",
   "metadata": {},
   "outputs": [],
   "source": []
  }
 ],
 "metadata": {
  "kernelspec": {
   "display_name": "Python 3 (ipykernel)",
   "language": "python",
   "name": "python3"
  },
  "language_info": {
   "codemirror_mode": {
    "name": "ipython",
    "version": 3
   },
   "file_extension": ".py",
   "mimetype": "text/x-python",
   "name": "python",
   "nbconvert_exporter": "python",
   "pygments_lexer": "ipython3",
   "version": "3.11.4"
  }
 },
 "nbformat": 4,
 "nbformat_minor": 5
}
