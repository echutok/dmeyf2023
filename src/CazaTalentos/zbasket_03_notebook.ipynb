{
 "cells": [
  {
   "cell_type": "code",
   "execution_count": 1,
   "id": "1b3f4ee4-5ee4-477d-8ba3-bd01cdddfbf4",
   "metadata": {},
   "outputs": [],
   "source": [
    "import  numpy as np"
   ]
  },
  {
   "cell_type": "code",
   "execution_count": 2,
   "id": "628a6be1-b809-4be7-8307-5bbf5e83af08",
   "metadata": {},
   "outputs": [],
   "source": [
    "np.random.seed(109001)"
   ]
  },
  {
   "cell_type": "code",
   "execution_count": 3,
   "id": "ef472879-2cd7-4c79-858e-9739ac7d5b59",
   "metadata": {},
   "outputs": [],
   "source": [
    "# calcula cuantos encestes logra una jugadora con indice de enceste prob\n",
    "# que hace qyt tiros libres\n",
    "\n",
    "def ftirar(prob, qty):\n",
    "  return sum(np.random.rand(qty) < prob)"
   ]
  },
  {
   "cell_type": "code",
   "execution_count": 4,
   "id": "5584e4f8-2ed1-47fe-87e3-99a4af4e56d3",
   "metadata": {},
   "outputs": [],
   "source": [
    "# defino las jugadoras\n",
    "mejor = 0.7\n",
    "peloton = np.array(range(501, 600)) / 1000\n",
    "jugadoras = np.append(mejor, peloton)\n",
    "\n",
    "# veo que tiene el vector\n",
    "jugadoras\n",
    "\n",
    "# vectorizo la funcion  ftirar\n",
    "vec_ftirar = np.vectorize(ftirar)"
   ]
  },
  {
   "cell_type": "code",
   "execution_count": 5,
   "id": "0e8469ec-f400-4b57-a446-f9692e98b4c6",
   "metadata": {},
   "outputs": [
    {
     "name": "stdout",
     "output_type": "stream",
     "text": [
      "9 \t 6\n",
      "9 \t 7\n",
      "9 \t 6\n",
      "9 \t 7\n",
      "8 \t 9\n",
      "9 \t 7\n",
      "9 \t 9\n",
      "10 \t 6\n",
      "10 \t 4\n",
      "9 \t 6\n"
     ]
    }
   ],
   "source": [
    "for i in range(10):\n",
    "  vaciertos = vec_ftirar(jugadoras, 10) # 10 tiros libres cada jugadora\n",
    "  mejor_ronda = np.argmax(vaciertos)\n",
    "  aciertos_torneo = vaciertos[mejor_ronda]\n",
    "  aciertos_segunda = vec_ftirar(jugadoras[mejor_ronda], 10)\n",
    "  print(aciertos_torneo, \"\\t\", aciertos_segunda)"
   ]
  },
  {
   "cell_type": "code",
   "execution_count": null,
   "id": "4106f8c0-d17a-43e3-8503-3b19918ac2ae",
   "metadata": {},
   "outputs": [],
   "source": []
  },
  {
   "cell_type": "code",
   "execution_count": null,
   "id": "ebdc40ee-1298-4797-8aca-16a50eafd2ad",
   "metadata": {},
   "outputs": [],
   "source": []
  },
  {
   "cell_type": "code",
   "execution_count": null,
   "id": "6a6f98d1-0dba-4d20-b677-266de9e25e70",
   "metadata": {},
   "outputs": [],
   "source": []
  },
  {
   "cell_type": "code",
   "execution_count": null,
   "id": "fa31b98d-01b2-4232-b988-ced729e6e2c0",
   "metadata": {},
   "outputs": [],
   "source": []
  },
  {
   "cell_type": "code",
   "execution_count": null,
   "id": "237426cd-a0a3-41f1-be53-3608b7506514",
   "metadata": {},
   "outputs": [],
   "source": []
  },
  {
   "cell_type": "code",
   "execution_count": null,
   "id": "480d1340-ae4f-46fa-a1e1-8881d78fa1d6",
   "metadata": {},
   "outputs": [],
   "source": []
  },
  {
   "cell_type": "code",
   "execution_count": null,
   "id": "9556731f-18af-460f-a733-f7c3d8ab4b48",
   "metadata": {},
   "outputs": [],
   "source": []
  },
  {
   "cell_type": "code",
   "execution_count": null,
   "id": "19c06473-238c-4202-a55f-765344d44b5c",
   "metadata": {},
   "outputs": [],
   "source": []
  }
 ],
 "metadata": {
  "kernelspec": {
   "display_name": "Python 3 (ipykernel)",
   "language": "python",
   "name": "python3"
  },
  "language_info": {
   "codemirror_mode": {
    "name": "ipython",
    "version": 3
   },
   "file_extension": ".py",
   "mimetype": "text/x-python",
   "name": "python",
   "nbconvert_exporter": "python",
   "pygments_lexer": "ipython3",
   "version": "3.11.4"
  }
 },
 "nbformat": 4,
 "nbformat_minor": 5
}
