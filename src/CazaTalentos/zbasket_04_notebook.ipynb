{
 "cells": [
  {
   "cell_type": "code",
   "execution_count": 1,
   "id": "6bcd4b77-12e8-442a-9e09-548bcfd5dffa",
   "metadata": {},
   "outputs": [],
   "source": [
    "import  numpy as np"
   ]
  },
  {
   "cell_type": "code",
   "execution_count": 2,
   "id": "450d9acc-b114-4d77-a564-235141bb8e34",
   "metadata": {},
   "outputs": [],
   "source": [
    "np.random.seed(109001)"
   ]
  },
  {
   "cell_type": "code",
   "execution_count": 3,
   "id": "295f2cd8-b11c-4444-aabc-d6e337095c81",
   "metadata": {},
   "outputs": [],
   "source": [
    "# calcula cuantos encestes logra una jugadora con indice de enceste prob\n",
    "# que hace qyt tiros libres\n",
    "\n",
    "def ftirar(prob, qty):\n",
    "  return sum(np.random.rand(qty) < prob)"
   ]
  },
  {
   "cell_type": "code",
   "execution_count": 4,
   "id": "9f3c03a6-bb0e-4a99-a13e-f4b8c4140207",
   "metadata": {},
   "outputs": [],
   "source": [
    "# defino las jugadoras\n",
    "jugadoras = [0.7] * 100\n",
    "\n",
    "#vectorizo la funcion  ftirar\n",
    "vec_ftirar = np.vectorize(ftirar)"
   ]
  },
  {
   "cell_type": "code",
   "execution_count": 5,
   "id": "bd8a430e-84f8-4d66-baeb-467e386e91e9",
   "metadata": {},
   "outputs": [
    {
     "name": "stdout",
     "output_type": "stream",
     "text": [
      "80 \t 68\n",
      "79 \t 63\n",
      "81 \t 77\n",
      "82 \t 69\n",
      "81 \t 72\n",
      "81 \t 77\n",
      "80 \t 67\n",
      "81 \t 71\n",
      "81 \t 73\n",
      "79 \t 66\n"
     ]
    }
   ],
   "source": [
    "for i in range(10):\n",
    "  vaciertos = vec_ftirar(jugadoras, 100) # 10 tiros libres cada jugadora\n",
    "  mejor_ronda = np.argmax(vaciertos)\n",
    "  aciertos_torneo = vaciertos[mejor_ronda]\n",
    "  aciertos_segunda = vec_ftirar(jugadoras[mejor_ronda], 100)\n",
    "  print(aciertos_torneo, \"\\t\", aciertos_segunda)"
   ]
  },
  {
   "cell_type": "code",
   "execution_count": null,
   "id": "b139df94-f32f-4528-98ee-63dfd9fbfa72",
   "metadata": {},
   "outputs": [],
   "source": []
  },
  {
   "cell_type": "code",
   "execution_count": null,
   "id": "a3350c9a-fc6a-49e6-986a-c30b9239857b",
   "metadata": {},
   "outputs": [],
   "source": []
  },
  {
   "cell_type": "code",
   "execution_count": null,
   "id": "82e151cc-d76c-48f7-9687-72736a1f64cb",
   "metadata": {},
   "outputs": [],
   "source": []
  }
 ],
 "metadata": {
  "kernelspec": {
   "display_name": "Python 3 (ipykernel)",
   "language": "python",
   "name": "python3"
  },
  "language_info": {
   "codemirror_mode": {
    "name": "ipython",
    "version": 3
   },
   "file_extension": ".py",
   "mimetype": "text/x-python",
   "name": "python",
   "nbconvert_exporter": "python",
   "pygments_lexer": "ipython3",
   "version": "3.11.4"
  }
 },
 "nbformat": 4,
 "nbformat_minor": 5
}
