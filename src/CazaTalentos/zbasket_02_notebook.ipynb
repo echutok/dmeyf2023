{
 "cells": [
  {
   "cell_type": "code",
   "execution_count": 1,
   "id": "4c1c77c6-1de2-45c1-9e52-4d82d78dacd3",
   "metadata": {},
   "outputs": [],
   "source": [
    "import  numpy as np"
   ]
  },
  {
   "cell_type": "code",
   "execution_count": 2,
   "id": "8a493a9a-db9a-4866-bc2b-fa47f0f98ee2",
   "metadata": {},
   "outputs": [],
   "source": [
    "np.random.seed(109001)"
   ]
  },
  {
   "cell_type": "code",
   "execution_count": 3,
   "id": "39e334b3-228d-4b14-affb-45994963cc06",
   "metadata": {},
   "outputs": [],
   "source": [
    "# calcula cuantos encestes logra un jugadora con indice de enceste prob\n",
    "# haciendo qyt tiros libres\n",
    "\n",
    "def ftirar(prob, qty):\n",
    "  return sum(np.random.rand(qty) < prob)"
   ]
  },
  {
   "cell_type": "code",
   "execution_count": 4,
   "id": "5646a644-99be-4eb5-8193-2cf84db86989",
   "metadata": {},
   "outputs": [
    {
     "data": {
      "text/plain": [
       "array([0.7  , 0.501, 0.502, 0.503, 0.504, 0.505, 0.506, 0.507, 0.508,\n",
       "       0.509, 0.51 , 0.511, 0.512, 0.513, 0.514, 0.515, 0.516, 0.517,\n",
       "       0.518, 0.519, 0.52 , 0.521, 0.522, 0.523, 0.524, 0.525, 0.526,\n",
       "       0.527, 0.528, 0.529, 0.53 , 0.531, 0.532, 0.533, 0.534, 0.535,\n",
       "       0.536, 0.537, 0.538, 0.539, 0.54 , 0.541, 0.542, 0.543, 0.544,\n",
       "       0.545, 0.546, 0.547, 0.548, 0.549, 0.55 , 0.551, 0.552, 0.553,\n",
       "       0.554, 0.555, 0.556, 0.557, 0.558, 0.559, 0.56 , 0.561, 0.562,\n",
       "       0.563, 0.564, 0.565, 0.566, 0.567, 0.568, 0.569, 0.57 , 0.571,\n",
       "       0.572, 0.573, 0.574, 0.575, 0.576, 0.577, 0.578, 0.579, 0.58 ,\n",
       "       0.581, 0.582, 0.583, 0.584, 0.585, 0.586, 0.587, 0.588, 0.589,\n",
       "       0.59 , 0.591, 0.592, 0.593, 0.594, 0.595, 0.596, 0.597, 0.598,\n",
       "       0.599])"
      ]
     },
     "execution_count": 4,
     "metadata": {},
     "output_type": "execute_result"
    }
   ],
   "source": [
    "# defino los jugadoras\n",
    "mejor = 0.7\n",
    "peloton = np.array(range(501, 600)) / 1000\n",
    "jugadoras = np.append(mejor, peloton)\n",
    "\n",
    "# veo que tiene el vector\n",
    "jugadoras"
   ]
  },
  {
   "cell_type": "code",
   "execution_count": 5,
   "id": "b2019b3e-b4c5-4d35-a8cb-a0c0b844c21a",
   "metadata": {},
   "outputs": [
    {
     "data": {
      "text/plain": [
       "array([8, 6, 3, 4, 6, 5, 5, 3, 5, 5, 6, 8, 4, 7, 5, 6, 5, 2, 2, 6, 5, 5,\n",
       "       6, 4, 8, 8, 6, 7, 7, 6, 2, 6, 6, 4, 5, 5, 6, 6, 5, 4, 5, 5, 3, 7,\n",
       "       4, 3, 4, 5, 8, 8, 5, 6, 6, 2, 6, 6, 5, 5, 8, 3, 7, 7, 5, 5, 7, 7,\n",
       "       5, 5, 7, 7, 5, 4, 6, 5, 3, 8, 6, 6, 4, 6, 3, 6, 7, 7, 6, 4, 8, 5,\n",
       "       9, 5, 7, 7, 4, 5, 5, 6, 4, 6, 5, 5])"
      ]
     },
     "execution_count": 5,
     "metadata": {},
     "output_type": "execute_result"
    }
   ],
   "source": [
    "# vectorizo la funcion  ftirar\n",
    "vec_ftirar = np.vectorize(ftirar)\n",
    "\n",
    "# hago que las 100 jugadoras tiren 10 veces cada una\n",
    "vec_ftirar(jugadoras, 10)"
   ]
  },
  {
   "cell_type": "code",
   "execution_count": 6,
   "id": "90b06b71-99cf-479e-a66c-849b94f33b0d",
   "metadata": {},
   "outputs": [
    {
     "name": "stdout",
     "output_type": "stream",
     "text": [
      "1399\n",
      "CPU times: total: 8.59 s\n",
      "Wall time: 8.68 s\n"
     ]
    }
   ],
   "source": [
    "%%time\n",
    "\n",
    "primera_ganadora = 0\n",
    "\n",
    "for i in range(10000): # diez mil experimentos\n",
    "  vaciertos = vec_ftirar(jugadoras, 10) # 10 tiros libres cada jugadora\n",
    "  mejor_ronda = np.argmax(vaciertos)\n",
    "  if mejor_ronda == 0:\n",
    "    primera_ganadora += 1\n",
    "\n",
    "print(primera_ganadora)"
   ]
  }
 ],
 "metadata": {
  "kernelspec": {
   "display_name": "Python 3 (ipykernel)",
   "language": "python",
   "name": "python3"
  },
  "language_info": {
   "codemirror_mode": {
    "name": "ipython",
    "version": 3
   },
   "file_extension": ".py",
   "mimetype": "text/x-python",
   "name": "python",
   "nbconvert_exporter": "python",
   "pygments_lexer": "ipython3",
   "version": "3.11.4"
  }
 },
 "nbformat": 4,
 "nbformat_minor": 5
}
