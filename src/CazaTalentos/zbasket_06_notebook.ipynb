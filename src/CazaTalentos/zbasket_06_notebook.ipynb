{
 "cells": [
  {
   "cell_type": "code",
   "execution_count": 1,
   "id": "5e50601e-1ccb-4d84-bba8-a9b5a920d8d8",
   "metadata": {},
   "outputs": [],
   "source": [
    "import numpy as np"
   ]
  },
  {
   "cell_type": "code",
   "execution_count": 2,
   "id": "42013488-b642-4e2e-a4bc-cada6c6f7258",
   "metadata": {},
   "outputs": [],
   "source": [
    "np.random.seed(109001)"
   ]
  },
  {
   "cell_type": "code",
   "execution_count": 3,
   "id": "111f7718-0810-40f0-8dba-bf7e67cd5eee",
   "metadata": {},
   "outputs": [],
   "source": [
    "# calcula cuantos encestes logra una jugadora con indice de enceste prob\n",
    "# que hace qyt tiros libres\n",
    "\n",
    "def ftirar(prob, qty):\n",
    "  return sum(np.random.rand(qty) < prob)"
   ]
  },
  {
   "cell_type": "code",
   "execution_count": 4,
   "id": "166506ec-d601-431e-9acf-7228097c4a58",
   "metadata": {},
   "outputs": [],
   "source": [
    "# defino las jugadoras\n",
    "taurasi = 0.85\n",
    "peloton = [0.6] * 99\n",
    "jugadoras = np.append(taurasi, peloton)\n",
    "\n",
    "# vectorizo la funcion  ftirar\n",
    "vec_ftirar = np.vectorize(ftirar)"
   ]
  },
  {
   "cell_type": "code",
   "execution_count": 5,
   "id": "86462097-1f37-47e4-8ce5-c7d0b3fa7f9d",
   "metadata": {},
   "outputs": [
    {
     "name": "stdout",
     "output_type": "stream",
     "text": [
      "89 \t 84\n",
      "87 \t 87\n",
      "92 \t 87\n",
      "84 \t 82\n",
      "90 \t 85\n",
      "84 \t 90\n",
      "88 \t 83\n",
      "78 \t 84\n",
      "81 \t 86\n",
      "87 \t 80\n"
     ]
    }
   ],
   "source": [
    "for i in range(10):\n",
    "  vaciertos = vec_ftirar(jugadoras, 100) # 10 tiros libres cada jugadora\n",
    "  mejor_ronda = np.argmax(vaciertos)\n",
    "  aciertos_torneo = vaciertos[mejor_ronda]\n",
    "  aciertos_segunda = vec_ftirar(jugadoras[mejor_ronda], 100)\n",
    "  print(aciertos_torneo, \"\\t\", aciertos_segunda)"
   ]
  },
  {
   "cell_type": "code",
   "execution_count": null,
   "id": "d4797fd4-bb93-43d4-8981-e65ebb1aebd8",
   "metadata": {},
   "outputs": [],
   "source": []
  }
 ],
 "metadata": {
  "kernelspec": {
   "display_name": "Python 3 (ipykernel)",
   "language": "python",
   "name": "python3"
  },
  "language_info": {
   "codemirror_mode": {
    "name": "ipython",
    "version": 3
   },
   "file_extension": ".py",
   "mimetype": "text/x-python",
   "name": "python",
   "nbconvert_exporter": "python",
   "pygments_lexer": "ipython3",
   "version": "3.11.4"
  }
 },
 "nbformat": 4,
 "nbformat_minor": 5
}
