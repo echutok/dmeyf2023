{
 "cells": [
  {
   "cell_type": "code",
   "execution_count": 16,
   "id": "dba84fba-7df2-45ea-9f04-e3995f0eda52",
   "metadata": {},
   "outputs": [],
   "source": [
    "import numpy as np\n",
    "import warnings as warnings\n",
    "warnings.filterwarnings(\"ignore\")"
   ]
  },
  {
   "cell_type": "markdown",
   "id": "81e62aa3-a5ea-44eb-ae62-da5a5676b075",
   "metadata": {},
   "source": [
    "# Caso 4"
   ]
  },
  {
   "cell_type": "markdown",
   "id": "de7120f5-d5b1-4c3c-941d-ec9ff93e7f1e",
   "metadata": {},
   "source": [
    "Ya que lo queremos comparar con los casos 1, 2 y 3, pensamos este ejercicio en términos de evaluar cuál es la probabilidad de que una jugadora que tiene menos de 80% enceste 9/10."
   ]
  },
  {
   "cell_type": "code",
   "execution_count": 27,
   "id": "1dd98879-b833-4b6e-82dc-0b6bda96c0b5",
   "metadata": {},
   "outputs": [
    {
     "name": "stdout",
     "output_type": "stream",
     "text": [
      "Probabilidad de encestar 9 tiros de 10 para una jugadora con 79% de efectividad: 0.25169\n"
     ]
    }
   ],
   "source": [
    "p = 0.79  # Suponemos el mejor caso, una jugadora con 79% de efectividad.\n",
    "k = 9     # Cantidad de tiros encestados.\n",
    "n = 10    # Cantidad de tiros.\n",
    "\n",
    "probabilidad_9_10 = np.math.comb(n, k) * (p ** k) * ((1 - p) ** (n - k))\n",
    "\n",
    "print(f\"Probabilidad de encestar 9 tiros de 10 para una jugadora con 79% de efectividad: {probabilidad_9_10:.5f}\")"
   ]
  },
  {
   "cell_type": "markdown",
   "id": "cadef100-d24d-4f7c-bfaa-d370780545d9",
   "metadata": {},
   "source": [
    "En este sentido, hay que definir subjetivamente si esta probabilidad es alta o baja. <br>\n",
    "\n",
    "Vamos a suponer que es una probabilidad baja. Es decir, bajo la suposición de que esta jugadora es peor que las de los casos 1, 2, y 3, sería muy poco probable (25%) que enceste 9 tiros sobre 10 posibles. <br>\n",
    "\n",
    "Por lo tanto, vamos a suponer que la jugadora ganadora del caso 4 es mejor que la de los casos 1, 2, y 3."
   ]
  },
  {
   "cell_type": "markdown",
   "id": "26e14980-bcbe-4f2a-9906-6e8626cfd7a7",
   "metadata": {},
   "source": [
    "# Caso 5"
   ]
  },
  {
   "cell_type": "code",
   "execution_count": 38,
   "id": "e56cc026-3ef9-4933-9b14-62b4141f3c89",
   "metadata": {},
   "outputs": [
    {
     "name": "stdout",
     "output_type": "stream",
     "text": [
      "Probabilidad promedio: 0.74667\n"
     ]
    }
   ],
   "source": [
    "probabilidades = [0.85, 0.69, 0.7]  # Probabilities of making a single shot in each scenario\n",
    "\n",
    "# Calculate the average probability\n",
    "prob_promedio = sum(probabilidades) / len(probabilidades)\n",
    "\n",
    "print(f\"Probabilidad promedio: {average_probability:.5f}\")"
   ]
  },
  {
   "cell_type": "code",
   "execution_count": 50,
   "id": "77e8de33-4964-4888-9da5-b7bd6a7ca6c2",
   "metadata": {},
   "outputs": [
    {
     "name": "stdout",
     "output_type": "stream",
     "text": [
      "Probability of success rate > 80%: 0.01043\n"
     ]
    }
   ],
   "source": [
    "# Define the observed data for each scenario\n",
    "data = [(85, 100), (69, 100), (70, 100)]\n",
    "\n",
    "# Number of simulations to estimate the posterior distribution\n",
    "num_simulations = 100000\n",
    "\n",
    "# Initialize an array to store the posterior samples\n",
    "posterior_samples = []\n",
    "\n",
    "# Perform Bayesian estimation with simulations\n",
    "for _ in range(num_simulations):\n",
    "    # Generate random samples from a Beta distribution using the observed data\n",
    "    alpha_posterior, beta_posterior = 1, 1  # Prior parameters\n",
    "    for successes, trials in data:\n",
    "        alpha_posterior += successes\n",
    "        beta_posterior += (trials - successes)\n",
    "    \n",
    "    # Sample a posterior probability of success\n",
    "    posterior_sample = np.random.beta(alpha_posterior, beta_posterior)\n",
    "    posterior_samples.append(posterior_sample)\n",
    "\n",
    "# Calculate the probability of having a success rate > 80%\n",
    "probability_more_than_80_percent = (np.array(posterior_samples) > 0.8).mean()\n",
    "\n",
    "print(f\"Probability of success rate > 80%: {probability_more_than_80_percent:.5f}\")"
   ]
  },
  {
   "cell_type": "markdown",
   "id": "c6eec03c-e142-45b6-9f41-4db5fae550d4",
   "metadata": {},
   "source": [
    "# Caso 6"
   ]
  },
  {
   "cell_type": "code",
   "execution_count": null,
   "id": "bf6b6be2-278b-42aa-807d-07e7354b985a",
   "metadata": {},
   "outputs": [],
   "source": [
    "No importa que sólo haya "
   ]
  },
  {
   "cell_type": "code",
   "execution_count": null,
   "id": "c3271ce5-a101-49de-b04a-b406f67c7bf8",
   "metadata": {},
   "outputs": [],
   "source": []
  },
  {
   "cell_type": "code",
   "execution_count": null,
   "id": "f811fa17-612b-4e7e-ba66-c313c48a37bd",
   "metadata": {},
   "outputs": [],
   "source": []
  }
 ],
 "metadata": {
  "kernelspec": {
   "display_name": "Python 3 (ipykernel)",
   "language": "python",
   "name": "python3"
  },
  "language_info": {
   "codemirror_mode": {
    "name": "ipython",
    "version": 3
   },
   "file_extension": ".py",
   "mimetype": "text/x-python",
   "name": "python",
   "nbconvert_exporter": "python",
   "pygments_lexer": "ipython3",
   "version": "3.11.4"
  }
 },
 "nbformat": 4,
 "nbformat_minor": 5
}
